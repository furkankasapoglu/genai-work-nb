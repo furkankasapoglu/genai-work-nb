{
 "cells": [
  {
   "cell_type": "code",
   "execution_count": 6,
   "metadata": {},
   "outputs": [],
   "source": [
    "TEXT = \"This product is ok!\""
   ]
  },
  {
   "cell_type": "code",
   "execution_count": 7,
   "metadata": {},
   "outputs": [],
   "source": [
    "from transformers import pipeline"
   ]
  },
  {
   "cell_type": "code",
   "execution_count": 8,
   "metadata": {},
   "outputs": [],
   "source": [
    "turkish_sentiment_models = [\n",
    "    \"gurkan08/turkish-product-comment-sentiment-classification\",\n",
    "    \"savasy/bert-base-turkish-sentiment-cased\",\n",
    "    \"kuzgunlar/electra-turkish-sentiment-analysis\",\n",
    "    \"emre/turkish-sentiment-analysis\",\n",
    "    \"TFLai/turkish-bert-128k-sentiment\",\n",
    "    \"tkurtulus/TurkishAirlines-SentimentAnalysisModel\",\n",
    "    \"akoksal/bounti\",\n",
    "    \"nlptown/bert-base-multilingual-uncased-sentiment\",\n",
    "]\n",
    "\n",
    "english_sentiment_models = [\n",
    "    \"nlptown/bert-base-multilingual-uncased-sentiment\",\n",
    "    \"siebert/sentiment-roberta-large-english\",\n",
    "    \"sbcBI/sentiment_analysis_model\",\n",
    "]"
   ]
  },
  {
   "cell_type": "markdown",
   "metadata": {},
   "source": [
    "5 Stars"
   ]
  },
  {
   "cell_type": "code",
   "execution_count": 9,
   "metadata": {},
   "outputs": [
    {
     "name": "stdout",
     "output_type": "stream",
     "text": [
      "[{'label': '3 stars', 'score': 0.5156072974205017}]\n"
     ]
    }
   ],
   "source": [
    "model = english_sentiment_models[0]\n",
    "pipe = pipeline(\"text-classification\", model=model)\n",
    "\n",
    "result = pipe(TEXT)\n",
    "print(result)"
   ]
  },
  {
   "cell_type": "markdown",
   "metadata": {},
   "source": [
    "2 labels"
   ]
  },
  {
   "cell_type": "code",
   "execution_count": 10,
   "metadata": {},
   "outputs": [
    {
     "name": "stdout",
     "output_type": "stream",
     "text": [
      "[{'label': 'NEGATIVE', 'score': 0.9994741082191467}]\n"
     ]
    }
   ],
   "source": [
    "model = english_sentiment_models[1]\n",
    "pipe = pipeline(\"text-classification\", model=model)\n",
    "\n",
    "result = pipe(TEXT)\n",
    "print(result)"
   ]
  },
  {
   "cell_type": "markdown",
   "metadata": {},
   "source": [
    "3 labels"
   ]
  },
  {
   "cell_type": "code",
   "execution_count": 11,
   "metadata": {},
   "outputs": [
    {
     "name": "stdout",
     "output_type": "stream",
     "text": [
      "[{'label': 'LABEL_2', 'score': 0.6769804954528809}]\n"
     ]
    }
   ],
   "source": [
    "model = english_sentiment_models[2]\n",
    "pipe = pipeline(\"text-classification\", model=model)\n",
    "\n",
    "result = pipe(TEXT)\n",
    "print(result)"
   ]
  },
  {
   "cell_type": "code",
   "execution_count": null,
   "metadata": {},
   "outputs": [],
   "source": []
  }
 ],
 "metadata": {
  "kernelspec": {
   "display_name": "venv",
   "language": "python",
   "name": "python3"
  },
  "language_info": {
   "codemirror_mode": {
    "name": "ipython",
    "version": 3
   },
   "file_extension": ".py",
   "mimetype": "text/x-python",
   "name": "python",
   "nbconvert_exporter": "python",
   "pygments_lexer": "ipython3",
   "version": "3.11.5"
  }
 },
 "nbformat": 4,
 "nbformat_minor": 2
}
