{
 "cells": [
  {
   "cell_type": "code",
   "execution_count": 2,
   "metadata": {},
   "outputs": [],
   "source": [
    "TEXT = \"I can make money purchases very easily from the mobile application and benefit from notifications. I am very satisfied.\"\n",
    "\n",
    "LABELS = [\"question\", \"complaint\", \"statement\", \"praise\", \"user interface\", \"design\", \"finance\", \"credit\", \"customer relationship\",\n",
    "          \"performance\"]"
   ]
  },
  {
   "cell_type": "code",
   "execution_count": 3,
   "metadata": {},
   "outputs": [
    {
     "name": "stderr",
     "output_type": "stream",
     "text": [
      "/Users/okanyenigun/Desktop/codes/projects/genai_work/notebooks/venv/lib/python3.11/site-packages/tqdm/auto.py:21: TqdmWarning: IProgress not found. Please update jupyter and ipywidgets. See https://ipywidgets.readthedocs.io/en/stable/user_install.html\n",
      "  from .autonotebook import tqdm as notebook_tqdm\n"
     ]
    }
   ],
   "source": [
    "from transformers import pipeline"
   ]
  },
  {
   "cell_type": "code",
   "execution_count": 4,
   "metadata": {},
   "outputs": [],
   "source": [
    "models = [\"MoritzLaurer/DeBERTa-v3-base-mnli-fever-anli\",\n",
    "          \"MoritzLaurer/DeBERTa-v3-large-mnli-fever-anli-ling-wanli\",\n",
    "             \"facebook/bart-large-mnli\",\n",
    "             \"MoritzLaurer/multilingual-MiniLMv2-L6-mnli-xnli\"]"
   ]
  },
  {
   "cell_type": "code",
   "execution_count": 6,
   "metadata": {},
   "outputs": [
    {
     "name": "stderr",
     "output_type": "stream",
     "text": [
      "/Users/okanyenigun/Desktop/codes/projects/genai_work/notebooks/venv/lib/python3.11/site-packages/transformers/convert_slow_tokenizer.py:473: UserWarning: The sentencepiece tokenizer that you are converting to a fast tokenizer uses the byte fallback option which is not implemented in the fast tokenizers. In practice this means that the fast version of the tokenizer can produce unknown tokens whereas the sentencepiece version would have converted these unknown tokens into a sequence of byte tokens matching the original piece of text.\n",
      "  warnings.warn(\n"
     ]
    },
    {
     "name": "stdout",
     "output_type": "stream",
     "text": [
      "{'sequence': 'I can make money purchases very easily from the mobile application and benefit from notifications. I am very satisfied.', 'labels': ['user interface', 'praise', 'finance', 'customer relationship', 'performance', 'statement', 'credit', 'question', 'design', 'complaint'], 'scores': [0.9950090646743774, 0.9935643672943115, 0.9875425100326538, 0.9611726999282837, 0.9325463175773621, 0.8563180565834045, 0.37213942408561707, 0.0059138997457921505, 0.0006775111542083323, 0.0005348981940187514]}\n",
      "\n",
      "['user interface', 'praise', 'finance', 'customer relationship', 'performance', 'statement', 'credit', 'question', 'design', 'complaint']\n",
      "[0.9950090646743774, 0.9935643672943115, 0.9875425100326538, 0.9611726999282837, 0.9325463175773621, 0.8563180565834045, 0.37213942408561707, 0.0059138997457921505, 0.0006775111542083323, 0.0005348981940187514]\n"
     ]
    }
   ],
   "source": [
    "model = models[0]\n",
    "pipe = pipeline(\"zero-shot-classification\", model=model)\n",
    "\n",
    "output = pipe(TEXT, LABELS, multi_label=True)\n",
    "print(output)\n",
    "print()\n",
    "print(output[\"labels\"])\n",
    "print(output[\"scores\"])"
   ]
  },
  {
   "cell_type": "code",
   "execution_count": 5,
   "metadata": {},
   "outputs": [
    {
     "name": "stdout",
     "output_type": "stream",
     "text": [
      "28545\n"
     ]
    }
   ],
   "source": [
    "import pickle\n",
    "\n",
    "infile = open(\"zero_shot_1.pkl\", \"rb\")\n",
    "data = pickle.load(infile)\n",
    "infile.close()\n",
    "print(len(data))"
   ]
  },
  {
   "cell_type": "code",
   "execution_count": null,
   "metadata": {},
   "outputs": [],
   "source": []
  }
 ],
 "metadata": {
  "kernelspec": {
   "display_name": "venv",
   "language": "python",
   "name": "python3"
  },
  "language_info": {
   "codemirror_mode": {
    "name": "ipython",
    "version": 3
   },
   "file_extension": ".py",
   "mimetype": "text/x-python",
   "name": "python",
   "nbconvert_exporter": "python",
   "pygments_lexer": "ipython3",
   "version": "3.11.5"
  }
 },
 "nbformat": 4,
 "nbformat_minor": 2
}
